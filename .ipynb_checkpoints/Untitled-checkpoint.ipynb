{
 "cells": [
  {
   "cell_type": "markdown",
   "id": "42571e8a",
   "metadata": {},
   "source": [
    "# import pandas"
   ]
  },
  {
   "cell_type": "code",
   "execution_count": 6,
   "id": "776edd4e",
   "metadata": {},
   "outputs": [],
   "source": [
    "import pandas as pd"
   ]
  },
  {
   "cell_type": "markdown",
   "id": "dd598737",
   "metadata": {},
   "source": [
    "# importing data\n"
   ]
  },
  {
   "cell_type": "code",
   "execution_count": 7,
   "id": "5aa28461",
   "metadata": {},
   "outputs": [],
   "source": [
    "names = ['id', 'title', 'year', 'rating', 'votes', 'length', 'genres']\n",
    "data = pd.read_csv('imdb_top_10000.txt', sep=\"\\t\", names=names, index_col=0)"
   ]
  },
  {
   "cell_type": "markdown",
   "id": "818cf658",
   "metadata": {},
   "source": [
    "# explore our data"
   ]
  },
  {
   "cell_type": "code",
   "execution_count": 8,
   "id": "1bb428e8",
   "metadata": {},
   "outputs": [
    {
     "data": {
      "text/html": [
       "<div>\n",
       "<style scoped>\n",
       "    .dataframe tbody tr th:only-of-type {\n",
       "        vertical-align: middle;\n",
       "    }\n",
       "\n",
       "    .dataframe tbody tr th {\n",
       "        vertical-align: top;\n",
       "    }\n",
       "\n",
       "    .dataframe thead th {\n",
       "        text-align: right;\n",
       "    }\n",
       "</style>\n",
       "<table border=\"1\" class=\"dataframe\">\n",
       "  <thead>\n",
       "    <tr style=\"text-align: right;\">\n",
       "      <th></th>\n",
       "      <th>title</th>\n",
       "      <th>year</th>\n",
       "      <th>rating</th>\n",
       "      <th>votes</th>\n",
       "      <th>length</th>\n",
       "      <th>genres</th>\n",
       "    </tr>\n",
       "    <tr>\n",
       "      <th>id</th>\n",
       "      <th></th>\n",
       "      <th></th>\n",
       "      <th></th>\n",
       "      <th></th>\n",
       "      <th></th>\n",
       "      <th></th>\n",
       "    </tr>\n",
       "  </thead>\n",
       "  <tbody>\n",
       "    <tr>\n",
       "      <th>tt0111161</th>\n",
       "      <td>The Shawshank Redemption (1994)</td>\n",
       "      <td>1994</td>\n",
       "      <td>9.2</td>\n",
       "      <td>619479</td>\n",
       "      <td>142 mins.</td>\n",
       "      <td>Crime|Drama</td>\n",
       "    </tr>\n",
       "    <tr>\n",
       "      <th>tt0110912</th>\n",
       "      <td>Pulp Fiction (1994)</td>\n",
       "      <td>1994</td>\n",
       "      <td>9.0</td>\n",
       "      <td>490065</td>\n",
       "      <td>154 mins.</td>\n",
       "      <td>Crime|Thriller</td>\n",
       "    </tr>\n",
       "    <tr>\n",
       "      <th>tt0137523</th>\n",
       "      <td>Fight Club (1999)</td>\n",
       "      <td>1999</td>\n",
       "      <td>8.8</td>\n",
       "      <td>458173</td>\n",
       "      <td>139 mins.</td>\n",
       "      <td>Drama|Mystery|Thriller</td>\n",
       "    </tr>\n",
       "    <tr>\n",
       "      <th>tt0133093</th>\n",
       "      <td>The Matrix (1999)</td>\n",
       "      <td>1999</td>\n",
       "      <td>8.7</td>\n",
       "      <td>448114</td>\n",
       "      <td>136 mins.</td>\n",
       "      <td>Action|Adventure|Sci-Fi</td>\n",
       "    </tr>\n",
       "    <tr>\n",
       "      <th>tt1375666</th>\n",
       "      <td>Inception (2010)</td>\n",
       "      <td>2010</td>\n",
       "      <td>8.9</td>\n",
       "      <td>385149</td>\n",
       "      <td>148 mins.</td>\n",
       "      <td>Action|Adventure|Sci-Fi|Thriller</td>\n",
       "    </tr>\n",
       "  </tbody>\n",
       "</table>\n",
       "</div>"
      ],
      "text/plain": [
       "                                     title  year  rating   votes     length  \\\n",
       "id                                                                            \n",
       "tt0111161  The Shawshank Redemption (1994)  1994     9.2  619479  142 mins.   \n",
       "tt0110912              Pulp Fiction (1994)  1994     9.0  490065  154 mins.   \n",
       "tt0137523                Fight Club (1999)  1999     8.8  458173  139 mins.   \n",
       "tt0133093                The Matrix (1999)  1999     8.7  448114  136 mins.   \n",
       "tt1375666                 Inception (2010)  2010     8.9  385149  148 mins.   \n",
       "\n",
       "                                     genres  \n",
       "id                                           \n",
       "tt0111161                       Crime|Drama  \n",
       "tt0110912                    Crime|Thriller  \n",
       "tt0137523            Drama|Mystery|Thriller  \n",
       "tt0133093           Action|Adventure|Sci-Fi  \n",
       "tt1375666  Action|Adventure|Sci-Fi|Thriller  "
      ]
     },
     "execution_count": 8,
     "metadata": {},
     "output_type": "execute_result"
    }
   ],
   "source": [
    "data.head()"
   ]
  },
  {
   "cell_type": "code",
   "execution_count": 9,
   "id": "277bd519",
   "metadata": {},
   "outputs": [
    {
     "data": {
      "text/html": [
       "<div>\n",
       "<style scoped>\n",
       "    .dataframe tbody tr th:only-of-type {\n",
       "        vertical-align: middle;\n",
       "    }\n",
       "\n",
       "    .dataframe tbody tr th {\n",
       "        vertical-align: top;\n",
       "    }\n",
       "\n",
       "    .dataframe thead th {\n",
       "        text-align: right;\n",
       "    }\n",
       "</style>\n",
       "<table border=\"1\" class=\"dataframe\">\n",
       "  <thead>\n",
       "    <tr style=\"text-align: right;\">\n",
       "      <th></th>\n",
       "      <th>title</th>\n",
       "      <th>year</th>\n",
       "      <th>rating</th>\n",
       "      <th>votes</th>\n",
       "      <th>length</th>\n",
       "      <th>genres</th>\n",
       "    </tr>\n",
       "    <tr>\n",
       "      <th>id</th>\n",
       "      <th></th>\n",
       "      <th></th>\n",
       "      <th></th>\n",
       "      <th></th>\n",
       "      <th></th>\n",
       "      <th></th>\n",
       "    </tr>\n",
       "  </thead>\n",
       "  <tbody>\n",
       "    <tr>\n",
       "      <th>tt0111161</th>\n",
       "      <td>The Shawshank Redemption (1994)</td>\n",
       "      <td>1994</td>\n",
       "      <td>9.2</td>\n",
       "      <td>619479</td>\n",
       "      <td>142 mins.</td>\n",
       "      <td>Crime|Drama</td>\n",
       "    </tr>\n",
       "    <tr>\n",
       "      <th>tt0110912</th>\n",
       "      <td>Pulp Fiction (1994)</td>\n",
       "      <td>1994</td>\n",
       "      <td>9.0</td>\n",
       "      <td>490065</td>\n",
       "      <td>154 mins.</td>\n",
       "      <td>Crime|Thriller</td>\n",
       "    </tr>\n",
       "    <tr>\n",
       "      <th>tt0137523</th>\n",
       "      <td>Fight Club (1999)</td>\n",
       "      <td>1999</td>\n",
       "      <td>8.8</td>\n",
       "      <td>458173</td>\n",
       "      <td>139 mins.</td>\n",
       "      <td>Drama|Mystery|Thriller</td>\n",
       "    </tr>\n",
       "    <tr>\n",
       "      <th>tt0133093</th>\n",
       "      <td>The Matrix (1999)</td>\n",
       "      <td>1999</td>\n",
       "      <td>8.7</td>\n",
       "      <td>448114</td>\n",
       "      <td>136 mins.</td>\n",
       "      <td>Action|Adventure|Sci-Fi</td>\n",
       "    </tr>\n",
       "    <tr>\n",
       "      <th>tt1375666</th>\n",
       "      <td>Inception (2010)</td>\n",
       "      <td>2010</td>\n",
       "      <td>8.9</td>\n",
       "      <td>385149</td>\n",
       "      <td>148 mins.</td>\n",
       "      <td>Action|Adventure|Sci-Fi|Thriller</td>\n",
       "    </tr>\n",
       "  </tbody>\n",
       "</table>\n",
       "</div>"
      ],
      "text/plain": [
       "                                     title  year  rating   votes     length  \\\n",
       "id                                                                            \n",
       "tt0111161  The Shawshank Redemption (1994)  1994     9.2  619479  142 mins.   \n",
       "tt0110912              Pulp Fiction (1994)  1994     9.0  490065  154 mins.   \n",
       "tt0137523                Fight Club (1999)  1999     8.8  458173  139 mins.   \n",
       "tt0133093                The Matrix (1999)  1999     8.7  448114  136 mins.   \n",
       "tt1375666                 Inception (2010)  2010     8.9  385149  148 mins.   \n",
       "\n",
       "                                     genres  \n",
       "id                                           \n",
       "tt0111161                       Crime|Drama  \n",
       "tt0110912                    Crime|Thriller  \n",
       "tt0137523            Drama|Mystery|Thriller  \n",
       "tt0133093           Action|Adventure|Sci-Fi  \n",
       "tt1375666  Action|Adventure|Sci-Fi|Thriller  "
      ]
     },
     "execution_count": 9,
     "metadata": {},
     "output_type": "execute_result"
    }
   ],
   "source": [
    "data.head(5)"
   ]
  },
  {
   "cell_type": "code",
   "execution_count": 10,
   "id": "ee0ac347",
   "metadata": {},
   "outputs": [
    {
     "data": {
      "text/html": [
       "<div>\n",
       "<style scoped>\n",
       "    .dataframe tbody tr th:only-of-type {\n",
       "        vertical-align: middle;\n",
       "    }\n",
       "\n",
       "    .dataframe tbody tr th {\n",
       "        vertical-align: top;\n",
       "    }\n",
       "\n",
       "    .dataframe thead th {\n",
       "        text-align: right;\n",
       "    }\n",
       "</style>\n",
       "<table border=\"1\" class=\"dataframe\">\n",
       "  <thead>\n",
       "    <tr style=\"text-align: right;\">\n",
       "      <th></th>\n",
       "      <th>title</th>\n",
       "      <th>year</th>\n",
       "      <th>rating</th>\n",
       "      <th>votes</th>\n",
       "      <th>length</th>\n",
       "      <th>genres</th>\n",
       "    </tr>\n",
       "    <tr>\n",
       "      <th>id</th>\n",
       "      <th></th>\n",
       "      <th></th>\n",
       "      <th></th>\n",
       "      <th></th>\n",
       "      <th></th>\n",
       "      <th></th>\n",
       "    </tr>\n",
       "  </thead>\n",
       "  <tbody>\n",
       "    <tr>\n",
       "      <th>tt0807721</th>\n",
       "      <td>Meduzot (2007)</td>\n",
       "      <td>2007</td>\n",
       "      <td>7.0</td>\n",
       "      <td>1357</td>\n",
       "      <td>78 mins.</td>\n",
       "      <td>Drama</td>\n",
       "    </tr>\n",
       "    <tr>\n",
       "      <th>tt0339642</th>\n",
       "      <td>Daltry Calhoun (2005)</td>\n",
       "      <td>2005</td>\n",
       "      <td>5.2</td>\n",
       "      <td>1357</td>\n",
       "      <td>100 mins.</td>\n",
       "      <td>Comedy|Drama|Music|Romance</td>\n",
       "    </tr>\n",
       "    <tr>\n",
       "      <th>tt0060880</th>\n",
       "      <td>The Quiller Memorandum (1966)</td>\n",
       "      <td>1966</td>\n",
       "      <td>6.5</td>\n",
       "      <td>1356</td>\n",
       "      <td>104 mins.</td>\n",
       "      <td>Drama|Mystery|Thriller</td>\n",
       "    </tr>\n",
       "    <tr>\n",
       "      <th>tt0152836</th>\n",
       "      <td>Taal (1999)</td>\n",
       "      <td>1999</td>\n",
       "      <td>6.5</td>\n",
       "      <td>1356</td>\n",
       "      <td>179 mins.</td>\n",
       "      <td>Musical|Romance</td>\n",
       "    </tr>\n",
       "    <tr>\n",
       "      <th>tt0279977</th>\n",
       "      <td>The Navigators (2001)</td>\n",
       "      <td>2001</td>\n",
       "      <td>6.9</td>\n",
       "      <td>1356</td>\n",
       "      <td>96 mins.</td>\n",
       "      <td>Comedy|Drama</td>\n",
       "    </tr>\n",
       "  </tbody>\n",
       "</table>\n",
       "</div>"
      ],
      "text/plain": [
       "                                   title  year  rating  votes     length  \\\n",
       "id                                                                         \n",
       "tt0807721                 Meduzot (2007)  2007     7.0   1357   78 mins.   \n",
       "tt0339642          Daltry Calhoun (2005)  2005     5.2   1357  100 mins.   \n",
       "tt0060880  The Quiller Memorandum (1966)  1966     6.5   1356  104 mins.   \n",
       "tt0152836                    Taal (1999)  1999     6.5   1356  179 mins.   \n",
       "tt0279977          The Navigators (2001)  2001     6.9   1356   96 mins.   \n",
       "\n",
       "                               genres  \n",
       "id                                     \n",
       "tt0807721                       Drama  \n",
       "tt0339642  Comedy|Drama|Music|Romance  \n",
       "tt0060880      Drama|Mystery|Thriller  \n",
       "tt0152836             Musical|Romance  \n",
       "tt0279977                Comedy|Drama  "
      ]
     },
     "execution_count": 10,
     "metadata": {},
     "output_type": "execute_result"
    }
   ],
   "source": [
    "data.tail()"
   ]
  },
  {
   "cell_type": "code",
   "execution_count": 11,
   "id": "fa856d63",
   "metadata": {},
   "outputs": [
    {
     "name": "stdout",
     "output_type": "stream",
     "text": [
      "<class 'pandas.core.frame.DataFrame'>\n",
      "Index: 10000 entries, tt0111161 to tt0279977\n",
      "Data columns (total 6 columns):\n",
      " #   Column  Non-Null Count  Dtype  \n",
      "---  ------  --------------  -----  \n",
      " 0   title   10000 non-null  object \n",
      " 1   year    10000 non-null  int64  \n",
      " 2   rating  10000 non-null  float64\n",
      " 3   votes   10000 non-null  int64  \n",
      " 4   length  10000 non-null  object \n",
      " 5   genres  9999 non-null   object \n",
      "dtypes: float64(1), int64(2), object(3)\n",
      "memory usage: 546.9+ KB\n"
     ]
    }
   ],
   "source": [
    "data.info()"
   ]
  },
  {
   "cell_type": "code",
   "execution_count": 12,
   "id": "6ccb20f6",
   "metadata": {},
   "outputs": [
    {
     "data": {
      "text/html": [
       "<div>\n",
       "<style scoped>\n",
       "    .dataframe tbody tr th:only-of-type {\n",
       "        vertical-align: middle;\n",
       "    }\n",
       "\n",
       "    .dataframe tbody tr th {\n",
       "        vertical-align: top;\n",
       "    }\n",
       "\n",
       "    .dataframe thead th {\n",
       "        text-align: right;\n",
       "    }\n",
       "</style>\n",
       "<table border=\"1\" class=\"dataframe\">\n",
       "  <thead>\n",
       "    <tr style=\"text-align: right;\">\n",
       "      <th></th>\n",
       "      <th>year</th>\n",
       "      <th>rating</th>\n",
       "      <th>votes</th>\n",
       "    </tr>\n",
       "  </thead>\n",
       "  <tbody>\n",
       "    <tr>\n",
       "      <th>count</th>\n",
       "      <td>10000.000000</td>\n",
       "      <td>10000.000000</td>\n",
       "      <td>10000.000000</td>\n",
       "    </tr>\n",
       "    <tr>\n",
       "      <th>mean</th>\n",
       "      <td>1993.472800</td>\n",
       "      <td>6.386070</td>\n",
       "      <td>16604.012800</td>\n",
       "    </tr>\n",
       "    <tr>\n",
       "      <th>std</th>\n",
       "      <td>14.829924</td>\n",
       "      <td>1.189933</td>\n",
       "      <td>34563.459698</td>\n",
       "    </tr>\n",
       "    <tr>\n",
       "      <th>min</th>\n",
       "      <td>1950.000000</td>\n",
       "      <td>1.500000</td>\n",
       "      <td>1356.000000</td>\n",
       "    </tr>\n",
       "    <tr>\n",
       "      <th>25%</th>\n",
       "      <td>1986.000000</td>\n",
       "      <td>5.700000</td>\n",
       "      <td>2333.750000</td>\n",
       "    </tr>\n",
       "    <tr>\n",
       "      <th>50%</th>\n",
       "      <td>1998.000000</td>\n",
       "      <td>6.600000</td>\n",
       "      <td>4980.500000</td>\n",
       "    </tr>\n",
       "    <tr>\n",
       "      <th>75%</th>\n",
       "      <td>2005.000000</td>\n",
       "      <td>7.200000</td>\n",
       "      <td>15277.750000</td>\n",
       "    </tr>\n",
       "    <tr>\n",
       "      <th>max</th>\n",
       "      <td>2011.000000</td>\n",
       "      <td>9.200000</td>\n",
       "      <td>619479.000000</td>\n",
       "    </tr>\n",
       "  </tbody>\n",
       "</table>\n",
       "</div>"
      ],
      "text/plain": [
       "               year        rating          votes\n",
       "count  10000.000000  10000.000000   10000.000000\n",
       "mean    1993.472800      6.386070   16604.012800\n",
       "std       14.829924      1.189933   34563.459698\n",
       "min     1950.000000      1.500000    1356.000000\n",
       "25%     1986.000000      5.700000    2333.750000\n",
       "50%     1998.000000      6.600000    4980.500000\n",
       "75%     2005.000000      7.200000   15277.750000\n",
       "max     2011.000000      9.200000  619479.000000"
      ]
     },
     "execution_count": 12,
     "metadata": {},
     "output_type": "execute_result"
    }
   ],
   "source": [
    "data.describe()"
   ]
  },
  {
   "cell_type": "markdown",
   "id": "c2754c81",
   "metadata": {},
   "source": [
    "# exporting data"
   ]
  },
  {
   "cell_type": "code",
   "execution_count": 13,
   "id": "542af75c",
   "metadata": {},
   "outputs": [],
   "source": [
    "data.to_csv('test.csv', header=True, index=True, sep=',')"
   ]
  },
  {
   "cell_type": "code",
   "execution_count": 14,
   "id": "efd821f1",
   "metadata": {},
   "outputs": [
    {
     "data": {
      "text/html": [
       "<div>\n",
       "<style scoped>\n",
       "    .dataframe tbody tr th:only-of-type {\n",
       "        vertical-align: middle;\n",
       "    }\n",
       "\n",
       "    .dataframe tbody tr th {\n",
       "        vertical-align: top;\n",
       "    }\n",
       "\n",
       "    .dataframe thead th {\n",
       "        text-align: right;\n",
       "    }\n",
       "</style>\n",
       "<table border=\"1\" class=\"dataframe\">\n",
       "  <thead>\n",
       "    <tr style=\"text-align: right;\">\n",
       "      <th></th>\n",
       "      <th>title</th>\n",
       "      <th>year</th>\n",
       "      <th>rating</th>\n",
       "      <th>votes</th>\n",
       "      <th>length</th>\n",
       "      <th>genres</th>\n",
       "    </tr>\n",
       "    <tr>\n",
       "      <th>id</th>\n",
       "      <th></th>\n",
       "      <th></th>\n",
       "      <th></th>\n",
       "      <th></th>\n",
       "      <th></th>\n",
       "      <th></th>\n",
       "    </tr>\n",
       "  </thead>\n",
       "  <tbody>\n",
       "    <tr>\n",
       "      <th>tt0270846</th>\n",
       "      <td>Superbabies: Baby Geniuses 2 (2004)</td>\n",
       "      <td>2004</td>\n",
       "      <td>1.5</td>\n",
       "      <td>13196</td>\n",
       "      <td>88 mins.</td>\n",
       "      <td>Comedy|Family</td>\n",
       "    </tr>\n",
       "    <tr>\n",
       "      <th>tt0059464</th>\n",
       "      <td>Monster a-Go Go (1965)</td>\n",
       "      <td>1965</td>\n",
       "      <td>1.5</td>\n",
       "      <td>3255</td>\n",
       "      <td>70 mins.</td>\n",
       "      <td>Sci-Fi|Horror</td>\n",
       "    </tr>\n",
       "    <tr>\n",
       "      <th>tt0364986</th>\n",
       "      <td>Ben &amp; Arthur (2002)</td>\n",
       "      <td>2002</td>\n",
       "      <td>1.5</td>\n",
       "      <td>4675</td>\n",
       "      <td>85 mins.</td>\n",
       "      <td>Drama|Romance</td>\n",
       "    </tr>\n",
       "    <tr>\n",
       "      <th>tt0421051</th>\n",
       "      <td>Daniel the Wizard (2004)</td>\n",
       "      <td>2004</td>\n",
       "      <td>1.5</td>\n",
       "      <td>8271</td>\n",
       "      <td>81 mins.</td>\n",
       "      <td>Comedy|Crime|Family|Fantasy|Horror</td>\n",
       "    </tr>\n",
       "    <tr>\n",
       "      <th>tt1309000</th>\n",
       "      <td>Dream Well (2009)</td>\n",
       "      <td>2009</td>\n",
       "      <td>1.5</td>\n",
       "      <td>2848</td>\n",
       "      <td>00 mins.</td>\n",
       "      <td>Comedy|Romance|Sport</td>\n",
       "    </tr>\n",
       "    <tr>\n",
       "      <th>...</th>\n",
       "      <td>...</td>\n",
       "      <td>...</td>\n",
       "      <td>...</td>\n",
       "      <td>...</td>\n",
       "      <td>...</td>\n",
       "      <td>...</td>\n",
       "    </tr>\n",
       "    <tr>\n",
       "      <th>tt0071562</th>\n",
       "      <td>The Godfather: Part II (1974)</td>\n",
       "      <td>1974</td>\n",
       "      <td>9.0</td>\n",
       "      <td>291169</td>\n",
       "      <td>200 mins.</td>\n",
       "      <td>Crime|Drama</td>\n",
       "    </tr>\n",
       "    <tr>\n",
       "      <th>tt0060196</th>\n",
       "      <td>The Good, the Bad and the Ugly (1966)</td>\n",
       "      <td>1966</td>\n",
       "      <td>9.0</td>\n",
       "      <td>195238</td>\n",
       "      <td>161 mins.</td>\n",
       "      <td>Western</td>\n",
       "    </tr>\n",
       "    <tr>\n",
       "      <th>tt0110912</th>\n",
       "      <td>Pulp Fiction (1994)</td>\n",
       "      <td>1994</td>\n",
       "      <td>9.0</td>\n",
       "      <td>490065</td>\n",
       "      <td>154 mins.</td>\n",
       "      <td>Crime|Thriller</td>\n",
       "    </tr>\n",
       "    <tr>\n",
       "      <th>tt0068646</th>\n",
       "      <td>The Godfather (1972)</td>\n",
       "      <td>1972</td>\n",
       "      <td>9.2</td>\n",
       "      <td>474189</td>\n",
       "      <td>175 mins.</td>\n",
       "      <td>Crime|Drama</td>\n",
       "    </tr>\n",
       "    <tr>\n",
       "      <th>tt0111161</th>\n",
       "      <td>The Shawshank Redemption (1994)</td>\n",
       "      <td>1994</td>\n",
       "      <td>9.2</td>\n",
       "      <td>619479</td>\n",
       "      <td>142 mins.</td>\n",
       "      <td>Crime|Drama</td>\n",
       "    </tr>\n",
       "  </tbody>\n",
       "</table>\n",
       "<p>10000 rows × 6 columns</p>\n",
       "</div>"
      ],
      "text/plain": [
       "                                           title  year  rating   votes  \\\n",
       "id                                                                       \n",
       "tt0270846    Superbabies: Baby Geniuses 2 (2004)  2004     1.5   13196   \n",
       "tt0059464                 Monster a-Go Go (1965)  1965     1.5    3255   \n",
       "tt0364986                    Ben & Arthur (2002)  2002     1.5    4675   \n",
       "tt0421051               Daniel the Wizard (2004)  2004     1.5    8271   \n",
       "tt1309000                      Dream Well (2009)  2009     1.5    2848   \n",
       "...                                          ...   ...     ...     ...   \n",
       "tt0071562          The Godfather: Part II (1974)  1974     9.0  291169   \n",
       "tt0060196  The Good, the Bad and the Ugly (1966)  1966     9.0  195238   \n",
       "tt0110912                    Pulp Fiction (1994)  1994     9.0  490065   \n",
       "tt0068646                   The Godfather (1972)  1972     9.2  474189   \n",
       "tt0111161        The Shawshank Redemption (1994)  1994     9.2  619479   \n",
       "\n",
       "              length                              genres  \n",
       "id                                                        \n",
       "tt0270846   88 mins.                       Comedy|Family  \n",
       "tt0059464   70 mins.                       Sci-Fi|Horror  \n",
       "tt0364986   85 mins.                       Drama|Romance  \n",
       "tt0421051   81 mins.  Comedy|Crime|Family|Fantasy|Horror  \n",
       "tt1309000   00 mins.                Comedy|Romance|Sport  \n",
       "...              ...                                 ...  \n",
       "tt0071562  200 mins.                         Crime|Drama  \n",
       "tt0060196  161 mins.                             Western  \n",
       "tt0110912  154 mins.                      Crime|Thriller  \n",
       "tt0068646  175 mins.                         Crime|Drama  \n",
       "tt0111161  142 mins.                         Crime|Drama  \n",
       "\n",
       "[10000 rows x 6 columns]"
      ]
     },
     "execution_count": 14,
     "metadata": {},
     "output_type": "execute_result"
    }
   ],
   "source": [
    "data.sort_values(by='rating')"
   ]
  },
  {
   "cell_type": "code",
   "execution_count": 15,
   "id": "f21a2b23",
   "metadata": {},
   "outputs": [
    {
     "data": {
      "text/html": [
       "<div>\n",
       "<style scoped>\n",
       "    .dataframe tbody tr th:only-of-type {\n",
       "        vertical-align: middle;\n",
       "    }\n",
       "\n",
       "    .dataframe tbody tr th {\n",
       "        vertical-align: top;\n",
       "    }\n",
       "\n",
       "    .dataframe thead th {\n",
       "        text-align: right;\n",
       "    }\n",
       "</style>\n",
       "<table border=\"1\" class=\"dataframe\">\n",
       "  <thead>\n",
       "    <tr style=\"text-align: right;\">\n",
       "      <th></th>\n",
       "      <th>title</th>\n",
       "      <th>year</th>\n",
       "      <th>rating</th>\n",
       "      <th>votes</th>\n",
       "      <th>length</th>\n",
       "      <th>genres</th>\n",
       "    </tr>\n",
       "    <tr>\n",
       "      <th>id</th>\n",
       "      <th></th>\n",
       "      <th></th>\n",
       "      <th></th>\n",
       "      <th></th>\n",
       "      <th></th>\n",
       "      <th></th>\n",
       "    </tr>\n",
       "  </thead>\n",
       "  <tbody>\n",
       "    <tr>\n",
       "      <th>tt0111161</th>\n",
       "      <td>The Shawshank Redemption (1994)</td>\n",
       "      <td>1994</td>\n",
       "      <td>9.2</td>\n",
       "      <td>619479</td>\n",
       "      <td>142 mins.</td>\n",
       "      <td>Crime|Drama</td>\n",
       "    </tr>\n",
       "    <tr>\n",
       "      <th>tt0068646</th>\n",
       "      <td>The Godfather (1972)</td>\n",
       "      <td>1972</td>\n",
       "      <td>9.2</td>\n",
       "      <td>474189</td>\n",
       "      <td>175 mins.</td>\n",
       "      <td>Crime|Drama</td>\n",
       "    </tr>\n",
       "    <tr>\n",
       "      <th>tt0060196</th>\n",
       "      <td>The Good, the Bad and the Ugly (1966)</td>\n",
       "      <td>1966</td>\n",
       "      <td>9.0</td>\n",
       "      <td>195238</td>\n",
       "      <td>161 mins.</td>\n",
       "      <td>Western</td>\n",
       "    </tr>\n",
       "    <tr>\n",
       "      <th>tt0110912</th>\n",
       "      <td>Pulp Fiction (1994)</td>\n",
       "      <td>1994</td>\n",
       "      <td>9.0</td>\n",
       "      <td>490065</td>\n",
       "      <td>154 mins.</td>\n",
       "      <td>Crime|Thriller</td>\n",
       "    </tr>\n",
       "    <tr>\n",
       "      <th>tt0252487</th>\n",
       "      <td>Outrageous Class (1975)</td>\n",
       "      <td>1975</td>\n",
       "      <td>9.0</td>\n",
       "      <td>9823</td>\n",
       "      <td>87 mins.</td>\n",
       "      <td>Comedy|Drama</td>\n",
       "    </tr>\n",
       "    <tr>\n",
       "      <th>...</th>\n",
       "      <td>...</td>\n",
       "      <td>...</td>\n",
       "      <td>...</td>\n",
       "      <td>...</td>\n",
       "      <td>...</td>\n",
       "      <td>...</td>\n",
       "    </tr>\n",
       "    <tr>\n",
       "      <th>tt0364986</th>\n",
       "      <td>Ben &amp; Arthur (2002)</td>\n",
       "      <td>2002</td>\n",
       "      <td>1.5</td>\n",
       "      <td>4675</td>\n",
       "      <td>85 mins.</td>\n",
       "      <td>Drama|Romance</td>\n",
       "    </tr>\n",
       "    <tr>\n",
       "      <th>tt0060753</th>\n",
       "      <td>Night Train to Mundo Fine (1966)</td>\n",
       "      <td>1966</td>\n",
       "      <td>1.5</td>\n",
       "      <td>3542</td>\n",
       "      <td>89 mins.</td>\n",
       "      <td>Action|Adventure|Crime|War</td>\n",
       "    </tr>\n",
       "    <tr>\n",
       "      <th>tt0421051</th>\n",
       "      <td>Daniel the Wizard (2004)</td>\n",
       "      <td>2004</td>\n",
       "      <td>1.5</td>\n",
       "      <td>8271</td>\n",
       "      <td>81 mins.</td>\n",
       "      <td>Comedy|Crime|Family|Fantasy|Horror</td>\n",
       "    </tr>\n",
       "    <tr>\n",
       "      <th>tt0059464</th>\n",
       "      <td>Monster a-Go Go (1965)</td>\n",
       "      <td>1965</td>\n",
       "      <td>1.5</td>\n",
       "      <td>3255</td>\n",
       "      <td>70 mins.</td>\n",
       "      <td>Sci-Fi|Horror</td>\n",
       "    </tr>\n",
       "    <tr>\n",
       "      <th>tt0060666</th>\n",
       "      <td>Manos: The Hands of Fate (1966)</td>\n",
       "      <td>1966</td>\n",
       "      <td>1.5</td>\n",
       "      <td>20927</td>\n",
       "      <td>74 mins.</td>\n",
       "      <td>Horror</td>\n",
       "    </tr>\n",
       "  </tbody>\n",
       "</table>\n",
       "<p>10000 rows × 6 columns</p>\n",
       "</div>"
      ],
      "text/plain": [
       "                                           title  year  rating   votes  \\\n",
       "id                                                                       \n",
       "tt0111161        The Shawshank Redemption (1994)  1994     9.2  619479   \n",
       "tt0068646                   The Godfather (1972)  1972     9.2  474189   \n",
       "tt0060196  The Good, the Bad and the Ugly (1966)  1966     9.0  195238   \n",
       "tt0110912                    Pulp Fiction (1994)  1994     9.0  490065   \n",
       "tt0252487                Outrageous Class (1975)  1975     9.0    9823   \n",
       "...                                          ...   ...     ...     ...   \n",
       "tt0364986                    Ben & Arthur (2002)  2002     1.5    4675   \n",
       "tt0060753       Night Train to Mundo Fine (1966)  1966     1.5    3542   \n",
       "tt0421051               Daniel the Wizard (2004)  2004     1.5    8271   \n",
       "tt0059464                 Monster a-Go Go (1965)  1965     1.5    3255   \n",
       "tt0060666        Manos: The Hands of Fate (1966)  1966     1.5   20927   \n",
       "\n",
       "              length                              genres  \n",
       "id                                                        \n",
       "tt0111161  142 mins.                         Crime|Drama  \n",
       "tt0068646  175 mins.                         Crime|Drama  \n",
       "tt0060196  161 mins.                             Western  \n",
       "tt0110912  154 mins.                      Crime|Thriller  \n",
       "tt0252487   87 mins.                        Comedy|Drama  \n",
       "...              ...                                 ...  \n",
       "tt0364986   85 mins.                       Drama|Romance  \n",
       "tt0060753   89 mins.          Action|Adventure|Crime|War  \n",
       "tt0421051   81 mins.  Comedy|Crime|Family|Fantasy|Horror  \n",
       "tt0059464   70 mins.                       Sci-Fi|Horror  \n",
       "tt0060666   74 mins.                              Horror  \n",
       "\n",
       "[10000 rows x 6 columns]"
      ]
     },
     "execution_count": 15,
     "metadata": {},
     "output_type": "execute_result"
    }
   ],
   "source": [
    "data.sort_values(by='rating', ascending=False)"
   ]
  },
  {
   "cell_type": "markdown",
   "id": "052b6e48",
   "metadata": {},
   "source": [
    "# data frames making"
   ]
  },
  {
   "cell_type": "code",
   "execution_count": 16,
   "id": "cd25b7b6",
   "metadata": {},
   "outputs": [],
   "source": [
    "sample_data = {\n",
    "    'tv':[123, 34, 66],\n",
    "    'radio' :[37, 56, 89],\n",
    "    'news': [23, 45, 78],\n",
    "}"
   ]
  },
  {
   "cell_type": "code",
   "execution_count": 17,
   "id": "80d2d835",
   "metadata": {},
   "outputs": [],
   "source": [
    "data2 = pd.DataFrame(sample_data)"
   ]
  },
  {
   "cell_type": "code",
   "execution_count": 18,
   "id": "d21ec5e4",
   "metadata": {},
   "outputs": [
    {
     "data": {
      "text/html": [
       "<div>\n",
       "<style scoped>\n",
       "    .dataframe tbody tr th:only-of-type {\n",
       "        vertical-align: middle;\n",
       "    }\n",
       "\n",
       "    .dataframe tbody tr th {\n",
       "        vertical-align: top;\n",
       "    }\n",
       "\n",
       "    .dataframe thead th {\n",
       "        text-align: right;\n",
       "    }\n",
       "</style>\n",
       "<table border=\"1\" class=\"dataframe\">\n",
       "  <thead>\n",
       "    <tr style=\"text-align: right;\">\n",
       "      <th></th>\n",
       "      <th>tv</th>\n",
       "      <th>radio</th>\n",
       "      <th>news</th>\n",
       "    </tr>\n",
       "  </thead>\n",
       "  <tbody>\n",
       "    <tr>\n",
       "      <th>0</th>\n",
       "      <td>123</td>\n",
       "      <td>37</td>\n",
       "      <td>23</td>\n",
       "    </tr>\n",
       "    <tr>\n",
       "      <th>1</th>\n",
       "      <td>34</td>\n",
       "      <td>56</td>\n",
       "      <td>45</td>\n",
       "    </tr>\n",
       "    <tr>\n",
       "      <th>2</th>\n",
       "      <td>66</td>\n",
       "      <td>89</td>\n",
       "      <td>78</td>\n",
       "    </tr>\n",
       "  </tbody>\n",
       "</table>\n",
       "</div>"
      ],
      "text/plain": [
       "    tv  radio  news\n",
       "0  123     37    23\n",
       "1   34     56    45\n",
       "2   66     89    78"
      ]
     },
     "execution_count": 18,
     "metadata": {},
     "output_type": "execute_result"
    }
   ],
   "source": [
    "data2"
   ]
  },
  {
   "cell_type": "code",
   "execution_count": 19,
   "id": "7def6cac",
   "metadata": {},
   "outputs": [],
   "source": [
    "del data2"
   ]
  },
  {
   "cell_type": "markdown",
   "id": "11e0a1ac",
   "metadata": {},
   "source": [
    "# selecting data\n"
   ]
  },
  {
   "cell_type": "code",
   "execution_count": 22,
   "id": "55e6984c",
   "metadata": {},
   "outputs": [
    {
     "data": {
      "text/plain": [
       "id\n",
       "tt0111161    The Shawshank Redemption (1994)\n",
       "tt0110912                Pulp Fiction (1994)\n",
       "tt0137523                  Fight Club (1999)\n",
       "tt0133093                  The Matrix (1999)\n",
       "tt1375666                   Inception (2010)\n",
       "                          ...               \n",
       "tt0807721                     Meduzot (2007)\n",
       "tt0339642              Daltry Calhoun (2005)\n",
       "tt0060880      The Quiller Memorandum (1966)\n",
       "tt0152836                        Taal (1999)\n",
       "tt0279977              The Navigators (2001)\n",
       "Name: title, Length: 10000, dtype: object"
      ]
     },
     "execution_count": 22,
     "metadata": {},
     "output_type": "execute_result"
    }
   ],
   "source": [
    "data['title']"
   ]
  },
  {
   "cell_type": "code",
   "execution_count": 23,
   "id": "7c7df2ac",
   "metadata": {},
   "outputs": [
    {
     "data": {
      "text/html": [
       "<div>\n",
       "<style scoped>\n",
       "    .dataframe tbody tr th:only-of-type {\n",
       "        vertical-align: middle;\n",
       "    }\n",
       "\n",
       "    .dataframe tbody tr th {\n",
       "        vertical-align: top;\n",
       "    }\n",
       "\n",
       "    .dataframe thead th {\n",
       "        text-align: right;\n",
       "    }\n",
       "</style>\n",
       "<table border=\"1\" class=\"dataframe\">\n",
       "  <thead>\n",
       "    <tr style=\"text-align: right;\">\n",
       "      <th></th>\n",
       "      <th>title</th>\n",
       "      <th>year</th>\n",
       "    </tr>\n",
       "    <tr>\n",
       "      <th>id</th>\n",
       "      <th></th>\n",
       "      <th></th>\n",
       "    </tr>\n",
       "  </thead>\n",
       "  <tbody>\n",
       "    <tr>\n",
       "      <th>tt0111161</th>\n",
       "      <td>The Shawshank Redemption (1994)</td>\n",
       "      <td>1994</td>\n",
       "    </tr>\n",
       "    <tr>\n",
       "      <th>tt0110912</th>\n",
       "      <td>Pulp Fiction (1994)</td>\n",
       "      <td>1994</td>\n",
       "    </tr>\n",
       "    <tr>\n",
       "      <th>tt0137523</th>\n",
       "      <td>Fight Club (1999)</td>\n",
       "      <td>1999</td>\n",
       "    </tr>\n",
       "    <tr>\n",
       "      <th>tt0133093</th>\n",
       "      <td>The Matrix (1999)</td>\n",
       "      <td>1999</td>\n",
       "    </tr>\n",
       "    <tr>\n",
       "      <th>tt1375666</th>\n",
       "      <td>Inception (2010)</td>\n",
       "      <td>2010</td>\n",
       "    </tr>\n",
       "    <tr>\n",
       "      <th>...</th>\n",
       "      <td>...</td>\n",
       "      <td>...</td>\n",
       "    </tr>\n",
       "    <tr>\n",
       "      <th>tt0807721</th>\n",
       "      <td>Meduzot (2007)</td>\n",
       "      <td>2007</td>\n",
       "    </tr>\n",
       "    <tr>\n",
       "      <th>tt0339642</th>\n",
       "      <td>Daltry Calhoun (2005)</td>\n",
       "      <td>2005</td>\n",
       "    </tr>\n",
       "    <tr>\n",
       "      <th>tt0060880</th>\n",
       "      <td>The Quiller Memorandum (1966)</td>\n",
       "      <td>1966</td>\n",
       "    </tr>\n",
       "    <tr>\n",
       "      <th>tt0152836</th>\n",
       "      <td>Taal (1999)</td>\n",
       "      <td>1999</td>\n",
       "    </tr>\n",
       "    <tr>\n",
       "      <th>tt0279977</th>\n",
       "      <td>The Navigators (2001)</td>\n",
       "      <td>2001</td>\n",
       "    </tr>\n",
       "  </tbody>\n",
       "</table>\n",
       "<p>10000 rows × 2 columns</p>\n",
       "</div>"
      ],
      "text/plain": [
       "                                     title  year\n",
       "id                                              \n",
       "tt0111161  The Shawshank Redemption (1994)  1994\n",
       "tt0110912              Pulp Fiction (1994)  1994\n",
       "tt0137523                Fight Club (1999)  1999\n",
       "tt0133093                The Matrix (1999)  1999\n",
       "tt1375666                 Inception (2010)  2010\n",
       "...                                    ...   ...\n",
       "tt0807721                   Meduzot (2007)  2007\n",
       "tt0339642            Daltry Calhoun (2005)  2005\n",
       "tt0060880    The Quiller Memorandum (1966)  1966\n",
       "tt0152836                      Taal (1999)  1999\n",
       "tt0279977            The Navigators (2001)  2001\n",
       "\n",
       "[10000 rows x 2 columns]"
      ]
     },
     "execution_count": 23,
     "metadata": {},
     "output_type": "execute_result"
    }
   ],
   "source": [
    "data[['title','year']]"
   ]
  },
  {
   "cell_type": "code",
   "execution_count": 24,
   "id": "c23a5838",
   "metadata": {},
   "outputs": [
    {
     "data": {
      "text/plain": [
       "6.38607"
      ]
     },
     "execution_count": 24,
     "metadata": {},
     "output_type": "execute_result"
    }
   ],
   "source": [
    "data['rating'].mean()"
   ]
  },
  {
   "cell_type": "code",
   "execution_count": 25,
   "id": "103c67e8",
   "metadata": {},
   "outputs": [
    {
     "data": {
      "text/plain": [
       "9.2"
      ]
     },
     "execution_count": 25,
     "metadata": {},
     "output_type": "execute_result"
    }
   ],
   "source": [
    "data['rating'].max()"
   ]
  },
  {
   "cell_type": "code",
   "execution_count": 26,
   "id": "190e0ddc",
   "metadata": {},
   "outputs": [
    {
     "data": {
      "text/plain": [
       "1.5"
      ]
     },
     "execution_count": 26,
     "metadata": {},
     "output_type": "execute_result"
    }
   ],
   "source": [
    "data['rating'].min()"
   ]
  },
  {
   "cell_type": "code",
   "execution_count": 27,
   "id": "334f5b01",
   "metadata": {},
   "outputs": [
    {
     "data": {
      "text/plain": [
       "array(['Crime|Drama', 'Crime|Thriller', 'Drama|Mystery|Thriller', ...,\n",
       "       'Drama|War|Adventure|Romance', 'Western|Sci-Fi|Thriller',\n",
       "       'Adventure|Comedy|Drama|War'], dtype=object)"
      ]
     },
     "execution_count": 27,
     "metadata": {},
     "output_type": "execute_result"
    }
   ],
   "source": [
    "data['genres'].unique()"
   ]
  },
  {
   "cell_type": "code",
   "execution_count": 28,
   "id": "1b011096",
   "metadata": {},
   "outputs": [
    {
     "data": {
      "text/plain": [
       "7.1    401\n",
       "6.8    401\n",
       "7.2    386\n",
       "6.7    384\n",
       "7.0    382\n",
       "      ... \n",
       "1.5      7\n",
       "1.6      6\n",
       "8.9      5\n",
       "9.0      4\n",
       "9.2      2\n",
       "Name: rating, Length: 77, dtype: int64"
      ]
     },
     "execution_count": 28,
     "metadata": {},
     "output_type": "execute_result"
    }
   ],
   "source": [
    "data['rating'].value_counts()"
   ]
  },
  {
   "cell_type": "code",
   "execution_count": 29,
   "id": "9caf9fad",
   "metadata": {},
   "outputs": [
    {
     "data": {
      "text/plain": [
       "1.5     7\n",
       "1.6     6\n",
       "1.7    12\n",
       "1.8    12\n",
       "1.9     9\n",
       "       ..\n",
       "8.7    13\n",
       "8.8     9\n",
       "8.9     5\n",
       "9.0     4\n",
       "9.2     2\n",
       "Name: rating, Length: 77, dtype: int64"
      ]
     },
     "execution_count": 29,
     "metadata": {},
     "output_type": "execute_result"
    }
   ],
   "source": [
    "data['rating'].value_counts().sort_index()"
   ]
  },
  {
   "cell_type": "markdown",
   "id": "49520633",
   "metadata": {},
   "source": [
    "# plotting"
   ]
  },
  {
   "cell_type": "code",
   "execution_count": 30,
   "id": "0371b809",
   "metadata": {},
   "outputs": [],
   "source": [
    "%matplotlib inline"
   ]
  },
  {
   "cell_type": "code",
   "execution_count": 32,
   "id": "b27199bb",
   "metadata": {},
   "outputs": [
    {
     "data": {
      "text/plain": [
       "<Axes: xlabel='id'>"
      ]
     },
     "execution_count": 32,
     "metadata": {},
     "output_type": "execute_result"
    },
    {
     "data": {
      "image/png": "[encoded data removed]",
      "text/plain": [
       "<Figure size 640x480 with 1 Axes>"
      ]
     },
     "metadata": {},
     "output_type": "display_data"
    }
   ],
   "source": [
    "data.plot()"
   ]
  },
  {
   "cell_type": "code",
   "execution_count": 33,
   "id": "0d93fd07",
   "metadata": {},
   "outputs": [
    {
     "data": {
      "text/plain": [
       "<Axes: xlabel='rating', ylabel='votes'>"
      ]
     },
     "execution_count": 33,
     "metadata": {},
     "output_type": "execute_result"
    },
    {
     "data": {
      "image/png": "[encoded data removed]",
      "text/plain": [
       "<Figure size 640x480 with 1 Axes>"
      ]
     },
     "metadata": {},
     "output_type": "display_data"
    }
   ],
   "source": [
    "data.plot(kind='scatter',x='rating',y='votes')"
   ]
  },
  {
   "cell_type": "code",
   "execution_count": 34,
   "id": "6657f80f",
   "metadata": {},
   "outputs": [
    {
     "data": {
      "text/plain": [
       "<Axes: xlabel='rating', ylabel='votes'>"
      ]
     },
     "execution_count": 34,
     "metadata": {},
     "output_type": "execute_result"
    },
    {
     "data": {
      "image/png": "[encoded data removed]",
      "text/plain": [
       "<Figure size 640x480 with 1 Axes>"
      ]
     },
     "metadata": {},
     "output_type": "display_data"
    }
   ],
   "source": [
    "data.plot(kind='scatter',x='rating',y='votes', alpha=0.3)"
   ]
  },
  {
   "cell_type": "code",
   "execution_count": 35,
   "id": "fd2709f9",
   "metadata": {},
   "outputs": [
    {
     "data": {
      "text/plain": [
       "<Axes: ylabel='Frequency'>"
      ]
     },
     "execution_count": 35,
     "metadata": {},
     "output_type": "execute_result"
    },
    {
     "data": {
      "image/png": "[encoded data removed]",
      "text/plain": [
       "<Figure size 640x480 with 1 Axes>"
      ]
     },
     "metadata": {},
     "output_type": "display_data"
    }
   ],
   "source": [
    "data['rating'].plot(kind='hist')"
   ]
  },
  {
   "cell_type": "code",
   "execution_count": 36,
   "id": "bcb7a469",
   "metadata": {},
   "outputs": [],
   "source": [
    "import seaborn as sns"
   ]
  },
  {
   "cell_type": "code",
   "execution_count": 39,
   "id": "0e784029",
   "metadata": {},
   "outputs": [
    {
     "data": {
      "text/plain": [
       "<seaborn.axisgrid.FacetGrid at 0x7feb81feae30>"
      ]
     },
     "execution_count": 39,
     "metadata": {},
     "output_type": "execute_result"
    },
    {
     "data": {
      "image/png": "[encoded data removed]",
      "text/plain": [
       "<Figure size 500x500 with 1 Axes>"
      ]
     },
     "metadata": {},
     "output_type": "display_data"
    }
   ],
   "source": [
    "sns.lmplot(x='rating', y='votes',data=data)"
   ]
  },
  {
   "cell_type": "code",
   "execution_count": null,
   "id": "5aa07dce",
   "metadata": {},
   "outputs": [],
   "source": []
  }
 ],
 "metadata": {
  "kernelspec": {
   "display_name": "Python 3 (ipykernel)",
   "language": "python",
   "name": "python3"
  },
  "language_info": {
   "codemirror_mode": {
    "name": "ipython",
    "version": 3
   },
   "file_extension": ".py",
   "mimetype": "text/x-python",
   "name": "python",
   "nbconvert_exporter": "python",
   "pygments_lexer": "ipython3",
   "version": "3.10.9"
  }
 },
 "nbformat": 4,
 "nbformat_minor": 5
}
